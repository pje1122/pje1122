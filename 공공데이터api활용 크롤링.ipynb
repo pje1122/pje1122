{
  "cells": [
    {
      "cell_type": "markdown",
      "metadata": {
        "id": "view-in-github",
        "colab_type": "text"
      },
      "source": [
        "<a href=\"https://colab.research.google.com/github/pje1122/pje1122/blob/main/%EA%B3%B5%EA%B3%B5%EB%8D%B0%EC%9D%B4%ED%84%B0api%ED%99%9C%EC%9A%A9%20%ED%81%AC%EB%A1%A4%EB%A7%81.ipynb\" target=\"_parent\"><img src=\"https://colab.research.google.com/assets/colab-badge.svg\" alt=\"Open In Colab\"/></a>"
      ]
    },
    {
      "cell_type": "markdown",
      "metadata": {
        "id": "C0cRtJvuMYCi"
      },
      "source": [
        "국립현대미술관_미술은행 소장품DB 정보\n",
        "https://www.culture.go.kr/data/openapi/openapiView.do?id=544&category=A&gubun=A#/default/%EC%9A%94%EC%B2%AD%EB%A9%94%EC%8B%9C%EC%A7%80_Get"
      ]
    },
    {
      "cell_type": "code",
      "execution_count": 46,
      "metadata": {
        "colab": {
          "base_uri": "https://localhost:8080/"
        },
        "id": "ZE9RsrkJMR21",
        "outputId": "e613fb28-26bb-4489-ee51-6d1994fe06f4"
      },
      "outputs": [
        {
          "output_type": "stream",
          "name": "stdout",
          "text": [
            "Drive already mounted at /content/drive; to attempt to forcibly remount, call drive.mount(\"/content/drive\", force_remount=True).\n"
          ]
        }
      ],
      "source": [
        "# 구글 드라이브 마운트\n",
        "from google.colab import drive\n",
        "drive.mount('/content/drive')"
      ]
    },
    {
      "cell_type": "code",
      "execution_count": 56,
      "metadata": {
        "id": "pRW_JggjVnV2"
      },
      "outputs": [],
      "source": [
        "# 필요한 라이브러리를 임포트\n",
        "import urllib.request\n",
        "import datetime\n",
        "import json\n",
        "import pandas as pd\n",
        "\n",
        "# API 호출에 사용할 서비스 키 입력\n",
        "ServiceKey = \"a3f53b21-b546-4020-9202-b3ed861e85a5\""
      ]
    },
    {
      "cell_type": "code",
      "execution_count": 57,
      "metadata": {
        "id": "thgbQ8SGVneJ"
      },
      "outputs": [],
      "source": [
        "# [CODE 1]\n",
        "def getKlnReview(url):\n",
        "  # request 객체 생성\n",
        "  req = urllib.request.Request(url)\n",
        "  req.add_header(\"Content-type\", \"application/json\")\n",
        "# JSON 형식으로 응답을 받고 싶을 때 아래 주석 제거 (api제공 측 안내)\n",
        "  req.add_header(\"Accept\", \"application/json\")\n",
        "\n",
        "\n",
        "  try :\n",
        "    # request 에 대한 응답 반환\n",
        "    response = urllib.request.urlopen(req)\n",
        "\n",
        "    # HTTP 상태 코드가 200 (OK) 인 경우\n",
        "    if response.getcode() == 200:\n",
        "      print(\"[%s] Url Request Success\" % datetime.datetime.now())\n",
        "      return response.read().decode(\"utf-8\")  # 응답 내용을 utf-8로 디코딩하여 반환합니다.\n",
        "\n",
        "  # 예외 발생 케이스\n",
        "  except Exception as e:\n",
        "    print (e)\n",
        "    print(\"[%s] Error for URL : %s\" % (datetime.datetime.now(), url))\n",
        "    return None # 실패한 경우 None 을 반환합니다."
      ]
    },
    {
      "cell_type": "code",
      "execution_count": 58,
      "metadata": {
        "id": "RzzpzmJ1MWss"
      },
      "outputs": [],
      "source": [
        "# [CODE 2]\n",
        "# 특정 기간, 특정 국가에 대한 관광객 통계 정보를 요청합니다.\n",
        "def getTourismStatsItem(numOfRows, pageNo):\n",
        "  service_url = \"http://api.kcisa.kr/API_CCA_141/request\"\n",
        "  parameters = \"?serviceKey=\" + ServiceKey # 인증키\n",
        "  parameters += \"&numOfRows=\" + numOfRows #세션당 요청레코드수\n",
        "  parameters += \"&pageNo=\" + pageNo #페이지수\n",
        "\n",
        "  # 기본URL 에 파라미터를 붙여 요청할 url 생성\n",
        "  url = service_url + parameters\n",
        "  # print(\"url: \", url)\n",
        "\n",
        "  responseDecode = getKlnReview(url) # [CODE 1] 을 통해 데이터를 반환받습니다.\n",
        "  #print (\"responseDecode: \", responseDecode)\n",
        "\n",
        "  if responseDecode == None :\n",
        "    print (\"responseDecode == None\")\n",
        "    return None\n",
        "  else :\n",
        "    print (\"responseDecode == NotNone\")\n",
        "    return  json.loads(responseDecode) #json형식을  파이썬 딕셔너리로 변환"
      ]
    },
    {
      "cell_type": "code",
      "execution_count": 59,
      "metadata": {
        "id": "NCPK1Y3yVvJR"
      },
      "outputs": [],
      "source": [
        "# [CODE 3]\n",
        "def getTourismStatsService( numOfRows, pageNo):\n",
        "  jsonResult = [] # json 결과 저장을 위한 리스트\n",
        "  result = []     # csv 파일 저장을 위한 리스트\n",
        "\n",
        "  for p in range(1, pageNo+1):\n",
        "      jsonData = getTourismStatsItem(str(numOfRows), str(p))\n",
        "      print (\"JsonData: \", jsonData)\n",
        "      for record in range (0,numOfRows):\n",
        "        t = jsonData['response']['body']['items']['item'][record]['TITLE']\n",
        "        i = jsonData['response'][\"body\"][\"items\"][\"item\"][record][\"IMAGE_OBJECT\"]\n",
        "        d = jsonData['response'][\"body\"][\"items\"][\"item\"][record][\"DESCRIPTION\"]\n",
        "        u = jsonData['response'][\"body\"][\"items\"][\"item\"][record][\"URL\"]\n",
        "\n",
        "        print (\"[ %s : %s : %s]\" % (t,d,u))\n",
        "        print (\"-\" * 30)\n",
        "        jsonResult.append({\"title\": t, \"image_object\": i, \"description\": d, \"URL\" : u})\n",
        "        result.append([t, i, d, u])\n",
        "\n",
        "# 수집된 내용을 반환합니다.\n",
        "  return jsonResult, result\n"
      ]
    },
    {
      "cell_type": "code",
      "execution_count": 60,
      "metadata": {
        "colab": {
          "base_uri": "https://localhost:8080/"
        },
        "id": "NBNtoNIcVv_h",
        "outputId": "562ff461-5525-437f-c821-c78c4b214259"
      },
      "outputs": [
        {
          "output_type": "stream",
          "name": "stdout",
          "text": [
            "세션당 요청레코드수10\n",
            "페이지수1\n",
            "[2024-04-18 07:58:46.687815] Url Request Success\n",
            "responseDecode == NotNone\n",
            "JsonData:  {'response': {'header': {'resultCode': '0000', 'resultMsg': 'OK'}, 'body': {'items': {'item': [{'UCI': 'G706+NMAA04-A.ArtBankDbNew.091125000000065', 'TITLE': '비천(Girl & Cloud)', 'IMAGE_OBJECT': None, 'INGREDIENT': None, 'SIZING': None, 'DESCRIPTION': 'Transformation  Work \"Transformation\"  is a movement of the images on both sides moving inwards and ', 'URL': ' http://www.artbank.go.kr/home/art/productDetail.do?artId=091125000000065'}, {'UCI': 'G706+NMAA04-A.ArtBankDbNew.200423000034454', 'TITLE': 'enigma-2019', 'IMAGE_OBJECT': '판화', 'INGREDIENT': None, 'SIZING': None, 'DESCRIPTION': '현대판화의 회화적요소를 자신의 손으로, 종이에다 생명을 불어넣는 것과 같은 예술작품을 완성해 가는 판화제작 과정은 저 자신에 있어서 특별한 의미를 가진 즐거움이다.특히 판화기법표현', 'URL': ' http://www.artbank.go.kr/home/art/productDetail.do?artId=200423000034454'}, {'UCI': 'G706+NMAA04-A.ArtBankDbNew.200414000033096', 'TITLE': '태양에 가려 못 봤던 것들_scene Ⅳ', 'IMAGE_OBJECT': '한국화', 'INGREDIENT': None, 'SIZING': None, 'DESCRIPTION': ' 우리는 태양이 비추는 시간과 태양이 저무는 시간이 양립하는 공간에 살고 있다. 본인은 하루 중 낮과 밤을 경험하면서 시간에 흐름에 따라 사용하는 감각, 장소, 감정의 변화, 그리', 'URL': ' http://www.artbank.go.kr/home/art/productDetail.do?artId=200414000033096'}, {'UCI': 'G706+NMAA04-A.ArtBankDbNew.200420000033645', 'TITLE': '相生 1812 - 和', 'IMAGE_OBJECT': '한국화', 'INGREDIENT': None, 'SIZING': None, 'DESCRIPTION': ' 相生이라는 일련의 주제로 사물들의 생명과 내면적인 대화를 표현하고 있다. 꽃이나 돌, 송사리, 혹은 기타 물상이나 추상적인 사물들을 소재로하여 화면을 구성하고 있으며, 광목 천에', 'URL': ' http://www.artbank.go.kr/home/art/productDetail.do?artId=200420000033645'}, {'UCI': 'G706+NMAA04-A.ArtBankDbNew.200408000032448', 'TITLE': 'Redunderwear 2015 市場1', 'IMAGE_OBJECT': '한국화', 'INGREDIENT': None, 'SIZING': None, 'DESCRIPTION': '일상의 번잡한 시장의 모습.  걷고 있는 사람들. 사람들... 바쁘게 어디론가 가고 있습니다. 순간적으로 같은 공간에 존재하고 있지만 그들은 타인의 어떠한 것에도 관심이 없고 목적', 'URL': ' http://www.artbank.go.kr/home/art/productDetail.do?artId=200408000032448'}, {'UCI': 'G706+NMAA04-A.ArtBankDbNew.200422000034291', 'TITLE': 'Inside and outside of landscape-Lake', 'IMAGE_OBJECT': '한국화', 'INGREDIENT': None, 'SIZING': None, 'DESCRIPTION': 'Kunst ist ja Therapie(예술은 바로 치료다). ㅡ 요셉 보이스(Joseph Beuys)는 예술을 치료와의 연계성에서 생각하는 것이 중요하다고 지적한 바 있다. 이러', 'URL': ' http://www.artbank.go.kr/home/art/productDetail.do?artId=200422000034291'}, {'UCI': 'G706+NMAA04-A.ArtBankDbNew.200409000032672', 'TITLE': '花園_coexistence with nature', 'IMAGE_OBJECT': '한국화', 'INGREDIENT': None, 'SIZING': None, 'DESCRIPTION': '박상미는 일상 속에 자리한 화분, 식물에 주목했다. 꽃집이나 실내 공간, 복도나 담벼락에 놓인 다기한 화분들은 녹색의 잎과 다채로운 색상의 꽃들을 품고 있다. 어느 날 그것들이 눈', 'URL': ' http://www.artbank.go.kr/home/art/productDetail.do?artId=200409000032672'}, {'UCI': 'G706+NMAA04-A.ArtBankDbNew.200722000035420', 'TITLE': 'Cherish the time-line(Blue 1, 2, 3, 4)', 'IMAGE_OBJECT': '서양화', 'INGREDIENT': None, 'SIZING': None, 'DESCRIPTION': '이번 시간을 머금다-선(line)시리즈는 색의 깊이, 공간, 선, 빛을 화면에 시간을 고스란히 머금은 채로 표현한 작업이라 할수 있다.\\n여러번 밑칠한 캔버스를 뉘여 잉크와 미디움', 'URL': ' http://www.artbank.go.kr/home/art/productDetail.do?artId=200722000035420'}, {'UCI': 'G706+NMAA04-A.ArtBankDbNew.200424000034893', 'TITLE': '순환 -독, 체, 맷돌 ', 'IMAGE_OBJECT': '사진', 'INGREDIENT': None, 'SIZING': None, 'DESCRIPTION': '강진주는 존재하는 것만으로도 이미 충만한 의미를 획득한 사물을 촬영한다.\\xa0여기에 찍힌 사물들은 한국인과 오랜 세월을 함께 한 조리도구들이다.\\xa0강진주는 이 사물들을 만나기 위해 긴 ', 'URL': ' http://www.artbank.go.kr/home/art/productDetail.do?artId=200424000034893'}, {'UCI': 'G706+NMAA04-A.ArtBankDbNew.200421000033972', 'TITLE': 'The void_State of exception', 'IMAGE_OBJECT': '뉴미디어및설치', 'INGREDIENT': None, 'SIZING': None, 'DESCRIPTION': '얼마 전까지 우리 사회에 유행하던 ‘느림의 미학’이라는 말이 있다. 느리게 걷고, 먹고, 읽는다면, 이전에는 볼 수 없었던 새로운 것을 보게 된다. 느림은 우리가 예상하지 못한 효', 'URL': ' http://www.artbank.go.kr/home/art/productDetail.do?artId=200421000033972'}]}, 'numOfRows': '10', 'pageNo': '1', 'totalCount': '7386'}}}\n",
            "[ 비천(Girl & Cloud) : Transformation  Work \"Transformation\"  is a movement of the images on both sides moving inwards and  :  http://www.artbank.go.kr/home/art/productDetail.do?artId=091125000000065]\n",
            "------------------------------\n",
            "[ enigma-2019 : 현대판화의 회화적요소를 자신의 손으로, 종이에다 생명을 불어넣는 것과 같은 예술작품을 완성해 가는 판화제작 과정은 저 자신에 있어서 특별한 의미를 가진 즐거움이다.특히 판화기법표현 :  http://www.artbank.go.kr/home/art/productDetail.do?artId=200423000034454]\n",
            "------------------------------\n",
            "[ 태양에 가려 못 봤던 것들_scene Ⅳ :  우리는 태양이 비추는 시간과 태양이 저무는 시간이 양립하는 공간에 살고 있다. 본인은 하루 중 낮과 밤을 경험하면서 시간에 흐름에 따라 사용하는 감각, 장소, 감정의 변화, 그리 :  http://www.artbank.go.kr/home/art/productDetail.do?artId=200414000033096]\n",
            "------------------------------\n",
            "[ 相生 1812 - 和 :  相生이라는 일련의 주제로 사물들의 생명과 내면적인 대화를 표현하고 있다. 꽃이나 돌, 송사리, 혹은 기타 물상이나 추상적인 사물들을 소재로하여 화면을 구성하고 있으며, 광목 천에 :  http://www.artbank.go.kr/home/art/productDetail.do?artId=200420000033645]\n",
            "------------------------------\n",
            "[ Redunderwear 2015 市場1 : 일상의 번잡한 시장의 모습.  걷고 있는 사람들. 사람들... 바쁘게 어디론가 가고 있습니다. 순간적으로 같은 공간에 존재하고 있지만 그들은 타인의 어떠한 것에도 관심이 없고 목적 :  http://www.artbank.go.kr/home/art/productDetail.do?artId=200408000032448]\n",
            "------------------------------\n",
            "[ Inside and outside of landscape-Lake : Kunst ist ja Therapie(예술은 바로 치료다). ㅡ 요셉 보이스(Joseph Beuys)는 예술을 치료와의 연계성에서 생각하는 것이 중요하다고 지적한 바 있다. 이러 :  http://www.artbank.go.kr/home/art/productDetail.do?artId=200422000034291]\n",
            "------------------------------\n",
            "[ 花園_coexistence with nature : 박상미는 일상 속에 자리한 화분, 식물에 주목했다. 꽃집이나 실내 공간, 복도나 담벼락에 놓인 다기한 화분들은 녹색의 잎과 다채로운 색상의 꽃들을 품고 있다. 어느 날 그것들이 눈 :  http://www.artbank.go.kr/home/art/productDetail.do?artId=200409000032672]\n",
            "------------------------------\n",
            "[ Cherish the time-line(Blue 1, 2, 3, 4) : 이번 시간을 머금다-선(line)시리즈는 색의 깊이, 공간, 선, 빛을 화면에 시간을 고스란히 머금은 채로 표현한 작업이라 할수 있다.\n",
            "여러번 밑칠한 캔버스를 뉘여 잉크와 미디움 :  http://www.artbank.go.kr/home/art/productDetail.do?artId=200722000035420]\n",
            "------------------------------\n",
            "[ 순환 -독, 체, 맷돌  : 강진주는 존재하는 것만으로도 이미 충만한 의미를 획득한 사물을 촬영한다. 여기에 찍힌 사물들은 한국인과 오랜 세월을 함께 한 조리도구들이다. 강진주는 이 사물들을 만나기 위해 긴  :  http://www.artbank.go.kr/home/art/productDetail.do?artId=200424000034893]\n",
            "------------------------------\n",
            "[ The void_State of exception : 얼마 전까지 우리 사회에 유행하던 ‘느림의 미학’이라는 말이 있다. 느리게 걷고, 먹고, 읽는다면, 이전에는 볼 수 없었던 새로운 것을 보게 된다. 느림은 우리가 예상하지 못한 효 :  http://www.artbank.go.kr/home/art/productDetail.do?artId=200421000033972]\n",
            "------------------------------\n"
          ]
        }
      ],
      "source": [
        "# [CODE 0]\n",
        "# 메인 함수\n",
        "def main():\n",
        "  jsonResult = [] # 최종 JSON 결과 저장을 위한 리스트\n",
        "  result = []     # 최종 csv 결과 저장을 위한 리스트\n",
        "\n",
        "  numOfRows = int (input(\"세션당 요청레코드수\"))\n",
        "  pageNo = int (input(\"페이지수\"))\n",
        "  jsonResult, result = getTourismStatsService(numOfRows, pageNo) # [CODE 3] 을 통해 데이터 수집\n",
        "\n",
        "  # 파일 저장 1: json 파일\n",
        "  with open(\"/content/drive/My Drive/데이터사이언스/art_data.json\", \"w\", encoding = \"utf8\") as outfile:\n",
        "    json.dump(jsonResult, outfile, indent = 4, sort_keys = True, ensure_ascii = False)\n",
        "\n",
        "  # 파일 저장 2: csv 파일\n",
        "  columns = [\"작품제목\", \"작품유형\", \"작품설명\",\"작품정보url\"]\n",
        "  result_df = pd.DataFrame(result, columns = columns)\n",
        "  result_df.to_csv(\"/content/drive/My Drive/데이터사이언스/art_data.csv\", index=False, encoding=\"utf-8\")\n",
        "\n",
        "# 메인 함수 진입\n",
        "if __name__ == '__main__':\n",
        "  main()"
      ]
    }
  ],
  "metadata": {
    "colab": {
      "provenance": [],
      "include_colab_link": true
    },
    "kernelspec": {
      "display_name": "Python 3",
      "name": "python3"
    },
    "language_info": {
      "name": "python"
    }
  },
  "nbformat": 4,
  "nbformat_minor": 0
}